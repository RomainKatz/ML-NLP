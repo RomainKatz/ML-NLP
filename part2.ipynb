{
 "cells": [
  {
   "cell_type": "markdown",
   "metadata": {},
   "source": [
    "# Import Libraries"
   ]
  },
  {
   "cell_type": "code",
   "execution_count": 1,
   "metadata": {},
   "outputs": [],
   "source": [
    "from pyspark.sql import SparkSession\n",
    "from pyspark.ml.regression import LinearRegression\n",
    "from pyspark.sql.functions import abs, avg, stddev, format_number\n",
    "from pyspark.ml.feature import StringIndexer, OneHotEncoder, VectorAssembler\n",
    "from pyspark.ml import Pipeline\n",
    "from pyspark.ml.evaluation import RegressionEvaluator\n",
    "from pyspark.ml.regression import DecisionTreeRegressor, RandomForestRegressor"
   ]
  },
  {
   "cell_type": "markdown",
   "metadata": {},
   "source": [
    "# Create Spark Session"
   ]
  },
  {
   "cell_type": "code",
   "execution_count": 2,
   "metadata": {},
   "outputs": [],
   "source": [
    "spark = SparkSession.builder.appName(\"TP_Part_Two\").getOrCreate()"
   ]
  },
  {
   "cell_type": "markdown",
   "metadata": {},
   "source": [
    "# Load Dataset from the file"
   ]
  },
  {
   "cell_type": "code",
   "execution_count": 3,
   "metadata": {},
   "outputs": [],
   "source": [
    "row_data = spark.read.csv(\"Bike Rental UCI dataset.csv\", inferSchema=True, header = True)"
   ]
  },
  {
   "cell_type": "code",
   "execution_count": 4,
   "metadata": {},
   "outputs": [
    {
     "name": "stdout",
     "output_type": "stream",
     "text": [
      "+------+---+----+---+-------+----------+----------+----+----+---------+---------+----+------+\n",
      "|season| yr|mnth| hr|holiday|workingday|weathersit|temp| hum|windspeed|dayOfWeek|days|demand|\n",
      "+------+---+----+---+-------+----------+----------+----+----+---------+---------+----+------+\n",
      "|     1|  0|   1|  0|      0|         0|         1|0.24|0.81|      0.0|      Sat|   0|    16|\n",
      "|     1|  0|   1|  1|      0|         0|         1|0.22| 0.8|      0.0|      Sat|   0|    40|\n",
      "|     1|  0|   1|  2|      0|         0|         1|0.22| 0.8|      0.0|      Sat|   0|    32|\n",
      "|     1|  0|   1|  3|      0|         0|         1|0.24|0.75|      0.0|      Sat|   0|    13|\n",
      "|     1|  0|   1|  4|      0|         0|         1|0.24|0.75|      0.0|      Sat|   0|     1|\n",
      "|     1|  0|   1|  5|      0|         0|         2|0.24|0.75|   0.0896|      Sat|   0|     1|\n",
      "|     1|  0|   1|  6|      0|         0|         1|0.22| 0.8|      0.0|      Sat|   0|     2|\n",
      "|     1|  0|   1|  7|      0|         0|         1| 0.2|0.86|      0.0|      Sat|   0|     3|\n",
      "|     1|  0|   1|  8|      0|         0|         1|0.24|0.75|      0.0|      Sat|   0|     8|\n",
      "|     1|  0|   1|  9|      0|         0|         1|0.32|0.76|      0.0|      Sat|   0|    14|\n",
      "|     1|  0|   1| 10|      0|         0|         1|0.38|0.76|   0.2537|      Sat|   0|    36|\n",
      "|     1|  0|   1| 11|      0|         0|         1|0.36|0.81|   0.2836|      Sat|   0|    56|\n",
      "|     1|  0|   1| 12|      0|         0|         1|0.42|0.77|   0.2836|      Sat|   0|    84|\n",
      "|     1|  0|   1| 13|      0|         0|         2|0.46|0.72|   0.2985|      Sat|   0|    94|\n",
      "|     1|  0|   1| 14|      0|         0|         2|0.46|0.72|   0.2836|      Sat|   0|   106|\n",
      "|     1|  0|   1| 15|      0|         0|         2|0.44|0.77|   0.2985|      Sat|   0|   110|\n",
      "|     1|  0|   1| 16|      0|         0|         2|0.42|0.82|   0.2985|      Sat|   0|    93|\n",
      "|     1|  0|   1| 17|      0|         0|         2|0.44|0.82|   0.2836|      Sat|   0|    67|\n",
      "|     1|  0|   1| 18|      0|         0|         3|0.42|0.88|   0.2537|      Sat|   0|    35|\n",
      "|     1|  0|   1| 19|      0|         0|         3|0.42|0.88|   0.2537|      Sat|   0|    37|\n",
      "+------+---+----+---+-------+----------+----------+----+----+---------+---------+----+------+\n",
      "only showing top 20 rows\n",
      "\n"
     ]
    }
   ],
   "source": [
    "row_data.show()"
   ]
  },
  {
   "cell_type": "markdown",
   "metadata": {},
   "source": [
    "# Getting Predictions, using the provided notebook"
   ]
  },
  {
   "cell_type": "code",
   "execution_count": 5,
   "metadata": {},
   "outputs": [],
   "source": [
    "indexer = StringIndexer(inputCol='dayOfWeek', outputCol='day_cat')\n",
    "indexed_data =indexer.fit(row_data).transform(row_data)"
   ]
  },
  {
   "cell_type": "code",
   "execution_count": 6,
   "metadata": {},
   "outputs": [
    {
     "name": "stdout",
     "output_type": "stream",
     "text": [
      "+------+---+----+---+-------+----------+----------+----+----+---------+---------+----+------+-------+\n",
      "|season| yr|mnth| hr|holiday|workingday|weathersit|temp| hum|windspeed|dayOfWeek|days|demand|day_cat|\n",
      "+------+---+----+---+-------+----------+----------+----+----+---------+---------+----+------+-------+\n",
      "|     1|  0|   1|  0|      0|         0|         1|0.24|0.81|      0.0|      Sat|   0|    16|    0.0|\n",
      "|     1|  0|   1|  1|      0|         0|         1|0.22| 0.8|      0.0|      Sat|   0|    40|    0.0|\n",
      "|     1|  0|   1|  2|      0|         0|         1|0.22| 0.8|      0.0|      Sat|   0|    32|    0.0|\n",
      "|     1|  0|   1|  3|      0|         0|         1|0.24|0.75|      0.0|      Sat|   0|    13|    0.0|\n",
      "|     1|  0|   1|  4|      0|         0|         1|0.24|0.75|      0.0|      Sat|   0|     1|    0.0|\n",
      "|     1|  0|   1|  5|      0|         0|         2|0.24|0.75|   0.0896|      Sat|   0|     1|    0.0|\n",
      "|     1|  0|   1|  6|      0|         0|         1|0.22| 0.8|      0.0|      Sat|   0|     2|    0.0|\n",
      "|     1|  0|   1|  7|      0|         0|         1| 0.2|0.86|      0.0|      Sat|   0|     3|    0.0|\n",
      "|     1|  0|   1|  8|      0|         0|         1|0.24|0.75|      0.0|      Sat|   0|     8|    0.0|\n",
      "|     1|  0|   1|  9|      0|         0|         1|0.32|0.76|      0.0|      Sat|   0|    14|    0.0|\n",
      "|     1|  0|   1| 10|      0|         0|         1|0.38|0.76|   0.2537|      Sat|   0|    36|    0.0|\n",
      "|     1|  0|   1| 11|      0|         0|         1|0.36|0.81|   0.2836|      Sat|   0|    56|    0.0|\n",
      "|     1|  0|   1| 12|      0|         0|         1|0.42|0.77|   0.2836|      Sat|   0|    84|    0.0|\n",
      "|     1|  0|   1| 13|      0|         0|         2|0.46|0.72|   0.2985|      Sat|   0|    94|    0.0|\n",
      "|     1|  0|   1| 14|      0|         0|         2|0.46|0.72|   0.2836|      Sat|   0|   106|    0.0|\n",
      "|     1|  0|   1| 15|      0|         0|         2|0.44|0.77|   0.2985|      Sat|   0|   110|    0.0|\n",
      "|     1|  0|   1| 16|      0|         0|         2|0.42|0.82|   0.2985|      Sat|   0|    93|    0.0|\n",
      "|     1|  0|   1| 17|      0|         0|         2|0.44|0.82|   0.2836|      Sat|   0|    67|    0.0|\n",
      "|     1|  0|   1| 18|      0|         0|         3|0.42|0.88|   0.2537|      Sat|   0|    35|    0.0|\n",
      "|     1|  0|   1| 19|      0|         0|         3|0.42|0.88|   0.2537|      Sat|   0|    37|    0.0|\n",
      "+------+---+----+---+-------+----------+----------+----+----+---------+---------+----+------+-------+\n",
      "only showing top 20 rows\n",
      "\n"
     ]
    }
   ],
   "source": [
    "indexed_data.show()"
   ]
  },
  {
   "cell_type": "code",
   "execution_count": 7,
   "metadata": {},
   "outputs": [],
   "source": [
    "vec = VectorAssembler(\n",
    "  inputCols= ['season',\n",
    "    'mnth',\n",
    "    'hr',\n",
    "    'holiday',\n",
    "    'workingday',\n",
    "    'weathersit',\n",
    "    'temp',\n",
    "    'hum',\n",
    "    'windspeed',\n",
    "    'days',\n",
    "    'day_cat']\n",
    "  ,\n",
    "   outputCol = 'features'                  \n",
    " )"
   ]
  },
  {
   "cell_type": "code",
   "execution_count": 8,
   "metadata": {},
   "outputs": [],
   "source": [
    "data = vec.transform(indexed_data)"
   ]
  },
  {
   "cell_type": "code",
   "execution_count": 9,
   "metadata": {},
   "outputs": [
    {
     "name": "stdout",
     "output_type": "stream",
     "text": [
      "+------+---+----+---+-------+----------+----------+----+----+---------+---------+----+------+-------+--------------------+\n",
      "|season| yr|mnth| hr|holiday|workingday|weathersit|temp| hum|windspeed|dayOfWeek|days|demand|day_cat|            features|\n",
      "+------+---+----+---+-------+----------+----------+----+----+---------+---------+----+------+-------+--------------------+\n",
      "|     1|  0|   1|  0|      0|         0|         1|0.24|0.81|      0.0|      Sat|   0|    16|    0.0|(11,[0,1,5,6,7],[...|\n",
      "|     1|  0|   1|  1|      0|         0|         1|0.22| 0.8|      0.0|      Sat|   0|    40|    0.0|(11,[0,1,2,5,6,7]...|\n",
      "|     1|  0|   1|  2|      0|         0|         1|0.22| 0.8|      0.0|      Sat|   0|    32|    0.0|(11,[0,1,2,5,6,7]...|\n",
      "|     1|  0|   1|  3|      0|         0|         1|0.24|0.75|      0.0|      Sat|   0|    13|    0.0|(11,[0,1,2,5,6,7]...|\n",
      "|     1|  0|   1|  4|      0|         0|         1|0.24|0.75|      0.0|      Sat|   0|     1|    0.0|(11,[0,1,2,5,6,7]...|\n",
      "|     1|  0|   1|  5|      0|         0|         2|0.24|0.75|   0.0896|      Sat|   0|     1|    0.0|[1.0,1.0,5.0,0.0,...|\n",
      "|     1|  0|   1|  6|      0|         0|         1|0.22| 0.8|      0.0|      Sat|   0|     2|    0.0|(11,[0,1,2,5,6,7]...|\n",
      "|     1|  0|   1|  7|      0|         0|         1| 0.2|0.86|      0.0|      Sat|   0|     3|    0.0|(11,[0,1,2,5,6,7]...|\n",
      "|     1|  0|   1|  8|      0|         0|         1|0.24|0.75|      0.0|      Sat|   0|     8|    0.0|(11,[0,1,2,5,6,7]...|\n",
      "|     1|  0|   1|  9|      0|         0|         1|0.32|0.76|      0.0|      Sat|   0|    14|    0.0|(11,[0,1,2,5,6,7]...|\n",
      "|     1|  0|   1| 10|      0|         0|         1|0.38|0.76|   0.2537|      Sat|   0|    36|    0.0|[1.0,1.0,10.0,0.0...|\n",
      "|     1|  0|   1| 11|      0|         0|         1|0.36|0.81|   0.2836|      Sat|   0|    56|    0.0|[1.0,1.0,11.0,0.0...|\n",
      "|     1|  0|   1| 12|      0|         0|         1|0.42|0.77|   0.2836|      Sat|   0|    84|    0.0|[1.0,1.0,12.0,0.0...|\n",
      "|     1|  0|   1| 13|      0|         0|         2|0.46|0.72|   0.2985|      Sat|   0|    94|    0.0|[1.0,1.0,13.0,0.0...|\n",
      "|     1|  0|   1| 14|      0|         0|         2|0.46|0.72|   0.2836|      Sat|   0|   106|    0.0|[1.0,1.0,14.0,0.0...|\n",
      "|     1|  0|   1| 15|      0|         0|         2|0.44|0.77|   0.2985|      Sat|   0|   110|    0.0|[1.0,1.0,15.0,0.0...|\n",
      "|     1|  0|   1| 16|      0|         0|         2|0.42|0.82|   0.2985|      Sat|   0|    93|    0.0|[1.0,1.0,16.0,0.0...|\n",
      "|     1|  0|   1| 17|      0|         0|         2|0.44|0.82|   0.2836|      Sat|   0|    67|    0.0|[1.0,1.0,17.0,0.0...|\n",
      "|     1|  0|   1| 18|      0|         0|         3|0.42|0.88|   0.2537|      Sat|   0|    35|    0.0|[1.0,1.0,18.0,0.0...|\n",
      "|     1|  0|   1| 19|      0|         0|         3|0.42|0.88|   0.2537|      Sat|   0|    37|    0.0|[1.0,1.0,19.0,0.0...|\n",
      "+------+---+----+---+-------+----------+----------+----+----+---------+---------+----+------+-------+--------------------+\n",
      "only showing top 20 rows\n",
      "\n"
     ]
    }
   ],
   "source": [
    "data.show()"
   ]
  },
  {
   "cell_type": "code",
   "execution_count": 10,
   "metadata": {},
   "outputs": [],
   "source": [
    "modelData = data.select('features', 'demand') "
   ]
  },
  {
   "cell_type": "code",
   "execution_count": 11,
   "metadata": {},
   "outputs": [
    {
     "name": "stdout",
     "output_type": "stream",
     "text": [
      "+--------------------+------+\n",
      "|            features|demand|\n",
      "+--------------------+------+\n",
      "|(11,[0,1,5,6,7],[...|    16|\n",
      "|(11,[0,1,2,5,6,7]...|    40|\n",
      "|(11,[0,1,2,5,6,7]...|    32|\n",
      "|(11,[0,1,2,5,6,7]...|    13|\n",
      "|(11,[0,1,2,5,6,7]...|     1|\n",
      "|[1.0,1.0,5.0,0.0,...|     1|\n",
      "|(11,[0,1,2,5,6,7]...|     2|\n",
      "|(11,[0,1,2,5,6,7]...|     3|\n",
      "|(11,[0,1,2,5,6,7]...|     8|\n",
      "|(11,[0,1,2,5,6,7]...|    14|\n",
      "|[1.0,1.0,10.0,0.0...|    36|\n",
      "|[1.0,1.0,11.0,0.0...|    56|\n",
      "|[1.0,1.0,12.0,0.0...|    84|\n",
      "|[1.0,1.0,13.0,0.0...|    94|\n",
      "|[1.0,1.0,14.0,0.0...|   106|\n",
      "|[1.0,1.0,15.0,0.0...|   110|\n",
      "|[1.0,1.0,16.0,0.0...|    93|\n",
      "|[1.0,1.0,17.0,0.0...|    67|\n",
      "|[1.0,1.0,18.0,0.0...|    35|\n",
      "|[1.0,1.0,19.0,0.0...|    37|\n",
      "+--------------------+------+\n",
      "only showing top 20 rows\n",
      "\n"
     ]
    }
   ],
   "source": [
    "modelData.show()"
   ]
  },
  {
   "cell_type": "code",
   "execution_count": 12,
   "metadata": {},
   "outputs": [],
   "source": [
    "trainData, testData = modelData.randomSplit([0.8, 0.2], seed=42)"
   ]
  },
  {
   "cell_type": "code",
   "execution_count": 13,
   "metadata": {},
   "outputs": [],
   "source": [
    "lr = LinearRegression(labelCol='demand', featuresCol='features')"
   ]
  },
  {
   "cell_type": "code",
   "execution_count": 14,
   "metadata": {},
   "outputs": [],
   "source": [
    "lrModel = lr.fit(trainData)"
   ]
  },
  {
   "cell_type": "code",
   "execution_count": 15,
   "metadata": {},
   "outputs": [],
   "source": [
    "summary = lrModel.summary"
   ]
  },
  {
   "cell_type": "code",
   "execution_count": 16,
   "metadata": {},
   "outputs": [
    {
     "name": "stdout",
     "output_type": "stream",
     "text": [
      "+---------------------------------------------------+------+-------------------+\n",
      "|features                                           |demand|prediction         |\n",
      "+---------------------------------------------------+------+-------------------+\n",
      "|(11,[0,1,2,5,6,7],[1.0,1.0,1.0,1.0,0.22,0.8])      |40.0  |-81.80522447908571 |\n",
      "|(11,[0,1,2,5,6,7],[1.0,1.0,2.0,1.0,0.22,0.8])      |32.0  |-74.06777891809314 |\n",
      "|(11,[0,1,2,5,6,7],[1.0,1.0,4.0,1.0,0.24,0.75])     |1.0   |-43.03579858882388 |\n",
      "|(11,[0,1,2,5,6,7],[1.0,1.0,6.0,1.0,0.22,0.8])      |2.0   |-43.11799667412288 |\n",
      "|(11,[0,1,2,5,6,7],[1.0,1.0,7.0,1.0,0.2,0.86])      |3.0   |-52.917028752154295|\n",
      "|(11,[0,1,2,5,6,7],[1.0,1.0,9.0,1.0,0.32,0.76])     |14.0  |16.312628978738484 |\n",
      "|(11,[0,1,5,6,7,9],[1.0,1.0,1.0,0.18,0.55,13.0])    |28.0  |-48.53013555702124 |\n",
      "|(11,[0,1,5,6,7,9],[1.0,12.0,2.0,0.24,0.7,721.0])   |26.0  |15.609075964982377 |\n",
      "|(11,[0,1,5,6,7,9],[2.0,3.0,1.0,0.58,0.68,442.0])   |156.0 |140.31702758754537 |\n",
      "|(11,[0,1,5,6,7,9],[2.0,4.0,2.0,0.3,0.61,87.0])     |32.0  |-13.895845164628415|\n",
      "|(11,[0,1,5,6,7,9],[2.0,6.0,1.0,0.56,0.52,150.0])   |93.0  |82.19030705278426  |\n",
      "|(11,[0,1,5,6,7,9],[3.0,6.0,1.0,0.64,0.83,533.0])   |116.0 |148.21062452624113 |\n",
      "|(11,[0,1,5,6,7,9],[3.0,7.0,1.0,0.82,0.56,199.0])   |101.0 |172.6994900384106  |\n",
      "|(11,[0,1,5,6,7,9],[3.0,8.0,1.0,0.6,0.88,227.0])    |128.0 |46.51062316749261  |\n",
      "|(11,[0,1,5,6,7,9],[3.0,8.0,2.0,0.7,0.61,596.0])    |135.0 |204.767792157209   |\n",
      "|(11,[0,1,5,6,7,9],[4.0,10.0,1.0,0.48,0.72,275.0])  |89.0  |62.12446781974995  |\n",
      "|(11,[0,1,5,6,7,9],[4.0,12.0,1.0,0.26,0.81,693.0])  |108.0 |60.18384141929998  |\n",
      "|(11,[0,1,5,6,7,9],[4.0,12.0,1.0,0.3,0.7,707.0])    |94.0  |96.3446120359331   |\n",
      "|[1.0,1.0,0.0,0.0,0.0,1.0,0.04,0.57,0.1045,20.0,1.0]|22.0  |-88.81834443461027 |\n",
      "|[1.0,1.0,0.0,0.0,0.0,1.0,0.1,0.42,0.3881,7.0,1.0]  |25.0  |-37.39346436196045 |\n",
      "+---------------------------------------------------+------+-------------------+\n",
      "only showing top 20 rows\n",
      "\n"
     ]
    }
   ],
   "source": [
    "summary.predictions.show(n=20, truncate = False)"
   ]
  },
  {
   "cell_type": "code",
   "execution_count": 17,
   "metadata": {},
   "outputs": [
    {
     "data": {
      "text/plain": [
       "12783.68672467488"
      ]
     },
     "execution_count": 17,
     "metadata": {},
     "output_type": "execute_result"
    }
   ],
   "source": [
    "summary.explainedVariance"
   ]
  },
  {
   "cell_type": "code",
   "execution_count": 18,
   "metadata": {},
   "outputs": [
    {
     "data": {
      "text/plain": [
       "105.68803342719963"
      ]
     },
     "execution_count": 18,
     "metadata": {},
     "output_type": "execute_result"
    }
   ],
   "source": [
    "summary.meanAbsoluteError"
   ]
  },
  {
   "cell_type": "code",
   "execution_count": 19,
   "metadata": {},
   "outputs": [],
   "source": [
    "testResults = lrModel.evaluate(testData)"
   ]
  },
  {
   "cell_type": "code",
   "execution_count": 20,
   "metadata": {},
   "outputs": [
    {
     "name": "stdout",
     "output_type": "stream",
     "text": [
      "+------------------+\n",
      "|         residuals|\n",
      "+------------------+\n",
      "| 63.77324414981645|\n",
      "|20.086016344853636|\n",
      "|101.86191142323328|\n",
      "| 40.95449465191133|\n",
      "| 78.04506776392819|\n",
      "| 73.24248625339271|\n",
      "| 68.09330075539387|\n",
      "| -7.61768619583404|\n",
      "| 77.29469338875032|\n",
      "|  66.0127866248553|\n",
      "+------------------+\n",
      "only showing top 10 rows\n",
      "\n"
     ]
    }
   ],
   "source": [
    "testResults.residuals.show(n=10)"
   ]
  },
  {
   "cell_type": "code",
   "execution_count": 21,
   "metadata": {},
   "outputs": [
    {
     "name": "stdout",
     "output_type": "stream",
     "text": [
      "+-------------------+\n",
      "|     avg(residuals)|\n",
      "+-------------------+\n",
      "|-1.2691883539840256|\n",
      "+-------------------+\n",
      "\n"
     ]
    }
   ],
   "source": [
    "testResults.residuals.groupBy().avg().show() "
   ]
  },
  {
   "cell_type": "code",
   "execution_count": 22,
   "metadata": {},
   "outputs": [
    {
     "name": "stdout",
     "output_type": "stream",
     "text": [
      "+-------------------+\n",
      "|avg(abs(residuals))|\n",
      "+-------------------+\n",
      "| 107.92946359993586|\n",
      "+-------------------+\n",
      "\n"
     ]
    }
   ],
   "source": [
    "df= testResults.residuals\n",
    "df.select(abs(df.residuals)).groupBy().avg().show()"
   ]
  },
  {
   "cell_type": "code",
   "execution_count": 23,
   "metadata": {},
   "outputs": [
    {
     "name": "stdout",
     "output_type": "stream",
     "text": [
      "r2=0.37981\n",
      "rootMeanSquaredError=143.168\n",
      "meanAbsoluteError=107.929\n"
     ]
    }
   ],
   "source": [
    "print (\"r2=%g\"%testResults.r2)   # my model explains x % of the variance of the data\n",
    "print (\"rootMeanSquaredError=%g\"%testResults.rootMeanSquaredError)\n",
    "print (\"meanAbsoluteError=%g\"%testResults.meanAbsoluteError)"
   ]
  },
  {
   "cell_type": "code",
   "execution_count": 24,
   "metadata": {},
   "outputs": [],
   "source": [
    "insights = lrModel.evaluate(data)\n",
    "pred = insights.predictions\n",
    "pred_res = pred.withColumn('res_abs', abs(pred.prediction-pred.demand))"
   ]
  },
  {
   "cell_type": "markdown",
   "metadata": {},
   "source": [
    "# Getting Insights from our results"
   ]
  },
  {
   "cell_type": "code",
   "execution_count": 33,
   "metadata": {},
   "outputs": [
    {
     "name": "stdout",
     "output_type": "stream",
     "text": [
      "+------+---+----+---+-------+----------+----------+----+----+---------+---------+----+------+-------+--------------------+-------------------+-------------------+\n",
      "|season| yr|mnth| hr|holiday|workingday|weathersit|temp| hum|windspeed|dayOfWeek|days|demand|day_cat|            features|         prediction|            res_abs|\n",
      "+------+---+----+---+-------+----------+----------+----+----+---------+---------+----+------+-------+--------------------+-------------------+-------------------+\n",
      "|     1|  0|   1|  0|      0|         0|         1|0.24|0.81|      0.0|      Sat|   0|    16|    0.0|(11,[0,1,5,6,7],[...| -85.86191142323328| 101.86191142323328|\n",
      "|     1|  0|   1|  1|      0|         0|         1|0.22| 0.8|      0.0|      Sat|   0|    40|    0.0|(11,[0,1,2,5,6,7]...| -81.80522447908571| 121.80522447908571|\n",
      "|     1|  0|   1|  2|      0|         0|         1|0.22| 0.8|      0.0|      Sat|   0|    32|    0.0|(11,[0,1,2,5,6,7]...| -74.06777891809314| 106.06777891809314|\n",
      "|     1|  0|   1|  3|      0|         0|         1|0.24|0.75|      0.0|      Sat|   0|    13|    0.0|(11,[0,1,2,5,6,7]...| -50.77324414981645|  63.77324414981645|\n",
      "|     1|  0|   1|  4|      0|         0|         1|0.24|0.75|      0.0|      Sat|   0|     1|    0.0|(11,[0,1,2,5,6,7]...| -43.03579858882388|  44.03579858882388|\n",
      "|     1|  0|   1|  5|      0|         0|         2|0.24|0.75|   0.0896|      Sat|   0|     1|    0.0|[1.0,1.0,5.0,0.0,...|-37.226459886968534| 38.226459886968534|\n",
      "|     1|  0|   1|  6|      0|         0|         1|0.22| 0.8|      0.0|      Sat|   0|     2|    0.0|(11,[0,1,2,5,6,7]...| -43.11799667412288|  45.11799667412288|\n",
      "|     1|  0|   1|  7|      0|         0|         1| 0.2|0.86|      0.0|      Sat|   0|     3|    0.0|(11,[0,1,2,5,6,7]...|-52.917028752154295| 55.917028752154295|\n",
      "|     1|  0|   1|  8|      0|         0|         1|0.24|0.75|      0.0|      Sat|   0|     8|    0.0|(11,[0,1,2,5,6,7]...|-12.086016344853636| 20.086016344853636|\n",
      "|     1|  0|   1|  9|      0|         0|         1|0.32|0.76|      0.0|      Sat|   0|    14|    0.0|(11,[0,1,2,5,6,7]...| 16.312628978738484|  2.312628978738484|\n",
      "|     1|  0|   1| 10|      0|         0|         1|0.38|0.76|   0.2537|      Sat|   0|    36|    0.0|[1.0,1.0,10.0,0.0...|  47.83079411024161| 11.830794110241612|\n",
      "|     1|  0|   1| 11|      0|         0|         1|0.36|0.81|   0.2836|      Sat|   0|    56|    0.0|[1.0,1.0,11.0,0.0...| 40.812602276721826| 15.187397723278174|\n",
      "|     1|  0|   1| 12|      0|         0|         1|0.42|0.77|   0.2836|      Sat|   0|    84|    0.0|[1.0,1.0,12.0,0.0...|  73.44804271042838| 10.551957289571618|\n",
      "|     1|  0|   1| 13|      0|         0|         2|0.46|0.72|   0.2985|      Sat|   0|    94|    0.0|[1.0,1.0,13.0,0.0...|  98.47232835664592|  4.472328356645917|\n",
      "|     1|  0|   1| 14|      0|         0|         2|0.46|0.72|   0.2836|      Sat|   0|   106|    0.0|[1.0,1.0,14.0,0.0...| 105.81038823167529|0.18961176832470983|\n",
      "|     1|  0|   1| 15|      0|         0|         2|0.44|0.77|   0.2985|      Sat|   0|   110|    0.0|[1.0,1.0,15.0,0.0...|  98.39013027134688| 11.609869728653123|\n",
      "|     1|  0|   1| 16|      0|         0|         2|0.42|0.82|   0.2985|      Sat|   0|    93|    0.0|[1.0,1.0,16.0,0.0...|  90.57048662505535|  2.429513374944648|\n",
      "|     1|  0|   1| 17|      0|         0|         2|0.44|0.82|   0.2836|      Sat|   0|    67|    0.0|[1.0,1.0,17.0,0.0...| 103.56869354866956|  36.56869354866956|\n",
      "|     1|  0|   1| 18|      0|         0|         3|0.42|0.88|   0.2537|      Sat|   0|    35|    0.0|[1.0,1.0,18.0,0.0...|  88.63842780125913|  53.63842780125913|\n",
      "|     1|  0|   1| 19|      0|         0|         3|0.42|0.88|   0.2537|      Sat|   0|    37|    0.0|[1.0,1.0,19.0,0.0...|   96.3758733622517| 59.375873362251696|\n",
      "+------+---+----+---+-------+----------+----------+----+----+---------+---------+----+------+-------+--------------------+-------------------+-------------------+\n",
      "only showing top 20 rows\n",
      "\n"
     ]
    }
   ],
   "source": [
    "pred_res.show()"
   ]
  },
  {
   "cell_type": "code",
   "execution_count": 25,
   "metadata": {},
   "outputs": [
    {
     "name": "stdout",
     "output_type": "stream",
     "text": [
      "+---+--------------+----------+-----------------+-------------+\n",
      "| hr|avg_prediction|avg_demand|stddev_prediction|stddev_demand|\n",
      "+---+--------------+----------+-----------------+-------------+\n",
      "|  0|         78.62|     53.90|            77.75|        42.31|\n",
      "|  1|         81.31|     33.38|            76.72|        33.54|\n",
      "|  2|         85.72|     22.87|            75.31|        26.58|\n",
      "|  3|         91.14|     11.73|            73.02|        13.24|\n",
      "|  4|         95.36|      6.35|            72.19|         4.14|\n",
      "|  5|         98.51|     19.89|            73.14|        13.20|\n",
      "|  6|        104.27|     76.04|            73.98|        55.08|\n",
      "|  7|        116.39|    212.06|            77.08|       161.44|\n",
      "|  8|        134.60|    359.01|            81.83|       235.19|\n",
      "|  9|        156.96|    219.31|            84.54|        93.70|\n",
      "| 10|        180.86|    173.67|            87.95|       102.21|\n",
      "| 11|        203.87|    208.14|            89.53|       127.50|\n",
      "| 12|        223.55|    253.32|            91.02|       145.08|\n",
      "| 13|        240.70|    253.66|            91.40|       148.11|\n",
      "| 14|        254.60|    240.95|            92.45|       147.27|\n",
      "| 15|        264.42|    251.23|            92.97|       144.63|\n",
      "| 16|        270.49|    311.98|            93.09|       148.68|\n",
      "| 17|        271.65|    461.45|            93.20|       232.66|\n",
      "| 18|        271.03|    425.51|            90.79|       224.64|\n",
      "| 19|        266.49|    311.52|            87.90|       161.05|\n",
      "+---+--------------+----------+-----------------+-------------+\n",
      "only showing top 20 rows\n",
      "\n"
     ]
    }
   ],
   "source": [
    "hourly_insights = pred_res.groupBy('hr').agg(\n",
    "    format_number(avg('prediction'), 2).alias('avg_prediction'), \n",
    "    format_number(avg('demand'), 2).alias('avg_demand'), \n",
    "    format_number(stddev('prediction'), 2).alias('stddev_prediction'), \n",
    "    format_number(stddev('demand'), 2).alias('stddev_demand')\n",
    ").sort('hr')\n",
    "\n",
    "hourly_insights.show()"
   ]
  },
  {
   "cell_type": "code",
   "execution_count": 26,
   "metadata": {},
   "outputs": [
    {
     "name": "stdout",
     "output_type": "stream",
     "text": [
      "+------+--------------+----------+-----------------+-------------+\n",
      "|season|avg_prediction|avg_demand|stddev_prediction|stddev_demand|\n",
      "+------+--------------+----------+-----------------+-------------+\n",
      "|     1|        113.67|    111.11|            98.49|       119.22|\n",
      "|     2|        192.91|    208.34|           107.50|       188.36|\n",
      "|     3|        257.95|    236.02|           101.29|       197.71|\n",
      "|     4|        190.12|    198.87|            95.96|       182.97|\n",
      "+------+--------------+----------+-----------------+-------------+\n",
      "\n"
     ]
    }
   ],
   "source": [
    "seasonal_insights = pred_res.groupBy('season').agg(\n",
    "    format_number(avg('prediction'), 2).alias('avg_prediction'), \n",
    "    format_number(avg('demand'), 2).alias('avg_demand'), \n",
    "    format_number(stddev('prediction'), 2).alias('stddev_prediction'), \n",
    "    format_number(stddev('demand'), 2).alias('stddev_demand')\n",
    ").sort('season')\n",
    "\n",
    "seasonal_insights.show()"
   ]
  },
  {
   "cell_type": "code",
   "execution_count": 27,
   "metadata": {},
   "outputs": [
    {
     "name": "stdout",
     "output_type": "stream",
     "text": [
      "+---------+--------------+----------+-----------------+-------------+\n",
      "|dayOfWeek|avg_prediction|avg_demand|stddev_prediction|stddev_demand|\n",
      "+---------+--------------+----------+-----------------+-------------+\n",
      "|      Fri|        195.14|    196.14|           115.58|       174.08|\n",
      "|      Mon|        185.45|    183.74|           111.62|       179.51|\n",
      "|      Sat|        185.01|    190.21|           115.28|       179.82|\n",
      "|      Sun|        184.45|    177.47|           109.86|       168.17|\n",
      "|      Thr|        196.94|    196.44|           112.48|       188.01|\n",
      "|      Tue|        190.85|    191.24|           111.02|       187.82|\n",
      "|      Wed|        190.28|    191.13|           115.80|       190.89|\n",
      "+---------+--------------+----------+-----------------+-------------+\n",
      "\n"
     ]
    }
   ],
   "source": [
    "dayOfWeek_insights = pred_res.groupBy('dayOfWeek').agg(\n",
    "    format_number(avg('prediction'), 2).alias('avg_prediction'), \n",
    "    format_number(avg('demand'), 2).alias('avg_demand'), \n",
    "    format_number(stddev('prediction'), 2).alias('stddev_prediction'), \n",
    "    format_number(stddev('demand'), 2).alias('stddev_demand')\n",
    ").sort('dayOfWeek')\n",
    "\n",
    "dayOfWeek_insights.show()"
   ]
  },
  {
   "cell_type": "markdown",
   "metadata": {},
   "source": [
    "# Add Dummies to improve the model"
   ]
  },
  {
   "cell_type": "markdown",
   "metadata": {},
   "source": [
    "I aim to get a bigger R2, and a smaller MAE"
   ]
  },
  {
   "cell_type": "code",
   "execution_count": 28,
   "metadata": {},
   "outputs": [
    {
     "name": "stdout",
     "output_type": "stream",
     "text": [
      "r2=0.37981\n",
      "meanAbsoluteError=107.929\n"
     ]
    }
   ],
   "source": [
    "print (\"r2=%g\"%testResults.r2)   \n",
    "print (\"meanAbsoluteError=%g\"%testResults.meanAbsoluteError)"
   ]
  },
  {
   "cell_type": "code",
   "execution_count": 29,
   "metadata": {},
   "outputs": [
    {
     "name": "stdout",
     "output_type": "stream",
     "text": [
      "Mean Absolute Error (MAE): 106.15093901048469\n",
      "R-squared (R2): 0.39247535338541106\n"
     ]
    }
   ],
   "source": [
    "indexers = [\n",
    "    StringIndexer(inputCol=\"season\", outputCol=\"season_index\"),\n",
    "    StringIndexer(inputCol=\"holiday\", outputCol=\"holiday_index\"),\n",
    "    StringIndexer(inputCol=\"workingday\", outputCol=\"workingday_index\"),\n",
    "    StringIndexer(inputCol=\"weathersit\", outputCol=\"weathersit_index\"),\n",
    "    StringIndexer(inputCol=\"dayOfWeek\", outputCol=\"dayOfWeek_index\"),\n",
    "    StringIndexer(inputCol=\"day_cat\", outputCol=\"day_cat_index\")\n",
    "]\n",
    "\n",
    "encoders = [\n",
    "    OneHotEncoder(inputCol=\"season_index\", outputCol=\"season_dummy\"),\n",
    "    OneHotEncoder(inputCol=\"holiday_index\", outputCol=\"holiday_dummy\"),\n",
    "    OneHotEncoder(inputCol=\"workingday_index\", outputCol=\"workingday_dummy\"),\n",
    "    OneHotEncoder(inputCol=\"weathersit_index\", outputCol=\"weathersit_dummy\"),\n",
    "    OneHotEncoder(inputCol=\"dayOfWeek_index\", outputCol=\"dayOfWeek_dummy\"),\n",
    "    OneHotEncoder(inputCol=\"day_cat_index\", outputCol=\"day_cat_dummy\")\n",
    "]\n",
    "\n",
    "assembler = VectorAssembler(inputCols=[\n",
    "    \"season_dummy\", \"holiday_dummy\", \"workingday_dummy\", \"weathersit_dummy\",\n",
    "    \"dayOfWeek_dummy\", \"day_cat_dummy\", \"temp\", \"hum\", \"windspeed\", \"days\", \"hr\", \"features\"\n",
    "], outputCol=\"feature\")\n",
    "\n",
    "lr = LinearRegression(featuresCol=\"feature\", labelCol=\"demand\")\n",
    "\n",
    "pipeline = Pipeline(stages=indexers + encoders + [assembler, lr])\n",
    "\n",
    "train_data, test_data = data.randomSplit([0.8, 0.2], seed=42)\n",
    "\n",
    "model = pipeline.fit(train_data)\n",
    "\n",
    "predictions2 = model.transform(test_data)\n",
    "\n",
    "evaluator = RegressionEvaluator(labelCol=\"demand\", predictionCol=\"prediction\", metricName=\"mae\")\n",
    "mae = evaluator.evaluate(predictions2)\n",
    "\n",
    "evaluator_r2 = RegressionEvaluator(labelCol=\"demand\", predictionCol=\"prediction\", metricName=\"r2\")\n",
    "r2 = evaluator_r2.evaluate(predictions2)\n",
    "\n",
    "print(f\"Mean Absolute Error (MAE): {mae}\")\n",
    "print(f\"R-squared (R2): {r2}\")"
   ]
  },
  {
   "cell_type": "code",
   "execution_count": 30,
   "metadata": {},
   "outputs": [
    {
     "name": "stdout",
     "output_type": "stream",
     "text": [
      "Mean Absolute Error (MAE): 106.11679195429892\n",
      "R-squared (R2): 0.3919153067721559\n"
     ]
    }
   ],
   "source": [
    "from pyspark.ml.tuning import ParamGridBuilder, CrossValidator\n",
    "\n",
    "paramGrid = (ParamGridBuilder()\n",
    "             .addGrid(lr.regParam, [0.01, 0.01, 0.001])  \n",
    "             .addGrid(lr.elasticNetParam, [0.0, 0.5, 1.0])  \n",
    "             .addGrid(lr.maxIter, [10, 50, 100]) \n",
    "             .build())\n",
    "\n",
    "\n",
    "evaluator = RegressionEvaluator(labelCol=\"demand\", predictionCol=\"prediction\", metricName=\"mae\")\n",
    "\n",
    "crossval = CrossValidator(estimator=pipeline,\n",
    "                          estimatorParamMaps=paramGrid,\n",
    "                          evaluator=evaluator,\n",
    "                          numFolds=5) \n",
    "\n",
    "\n",
    "cvModel = crossval.fit(train_data)\n",
    "\n",
    "bestModel = cvModel.bestModel\n",
    "\n",
    "predictions = bestModel.transform(test_data)\n",
    "\n",
    "mae = evaluator.evaluate(predictions)\n",
    "print(f\"Mean Absolute Error (MAE): {mae}\")\n",
    "\n",
    "evaluator_r2 = RegressionEvaluator(labelCol=\"demand\", predictionCol=\"prediction\", metricName=\"r2\")\n",
    "r2 = evaluator_r2.evaluate(predictions)\n",
    "print(f\"R-squared (R2): {r2}\")"
   ]
  },
  {
   "cell_type": "code",
   "execution_count": 31,
   "metadata": {},
   "outputs": [
    {
     "name": "stdout",
     "output_type": "stream",
     "text": [
      "DecisionTree MAE: 72.71133082643351\n",
      "DecisionTree R-squared (R2): 0.636476770275656\n",
      "RandomForest MAE: 72.17396989630456\n",
      "RandomForest R-squared (R2): 0.6537463632597177\n"
     ]
    }
   ],
   "source": [
    "indexers = [\n",
    "    StringIndexer(inputCol=\"season\", outputCol=\"season_index\"),\n",
    "    StringIndexer(inputCol=\"holiday\", outputCol=\"holiday_index\"),\n",
    "    StringIndexer(inputCol=\"workingday\", outputCol=\"workingday_index\"),\n",
    "    StringIndexer(inputCol=\"weathersit\", outputCol=\"weathersit_index\"),\n",
    "    StringIndexer(inputCol=\"dayOfWeek\", outputCol=\"dayOfWeek_index\"),\n",
    "    StringIndexer(inputCol=\"day_cat\", outputCol=\"day_cat_index\")\n",
    "]\n",
    "\n",
    "encoders = [\n",
    "    OneHotEncoder(inputCol=\"season_index\", outputCol=\"season_dummy\"),\n",
    "    OneHotEncoder(inputCol=\"holiday_index\", outputCol=\"holiday_dummy\"),\n",
    "    OneHotEncoder(inputCol=\"workingday_index\", outputCol=\"workingday_dummy\"),\n",
    "    OneHotEncoder(inputCol=\"weathersit_index\", outputCol=\"weathersit_dummy\"),\n",
    "    OneHotEncoder(inputCol=\"dayOfWeek_index\", outputCol=\"dayOfWeek_dummy\"),\n",
    "    OneHotEncoder(inputCol=\"day_cat_index\", outputCol=\"day_cat_dummy\")\n",
    "]\n",
    "\n",
    "assembler = VectorAssembler(inputCols=[\n",
    "    \"season_dummy\", \"holiday_dummy\", \"workingday_dummy\", \"weathersit_dummy\",\n",
    "    \"dayOfWeek_dummy\", \"day_cat_dummy\", \"temp\", \"hum\", \"windspeed\", \"days\", \"hr\", \"features\"\n",
    "], outputCol=\"feature\")\n",
    "\n",
    "dt = DecisionTreeRegressor(featuresCol=\"feature\", labelCol=\"demand\")\n",
    "rf = RandomForestRegressor(featuresCol=\"feature\", labelCol=\"demand\")\n",
    "\n",
    "pipeline_dt = Pipeline(stages=indexers + encoders + [assembler, dt])\n",
    "pipeline_rf = Pipeline(stages=indexers + encoders + [assembler, rf])\n",
    "\n",
    "model_dt = pipeline_dt.fit(train_data)\n",
    "model_rf = pipeline_rf.fit(train_data)\n",
    "\n",
    "predictions_dt = model_dt.transform(test_data)\n",
    "predictions_rf = model_rf.transform(test_data)\n",
    "\n",
    "evaluator = RegressionEvaluator(labelCol=\"demand\", predictionCol=\"prediction\", metricName=\"mae\")\n",
    "\n",
    "mae_dt = evaluator.evaluate(predictions_dt)\n",
    "r2_dt = evaluator_r2.evaluate(predictions_dt)\n",
    "print(f\"DecisionTree MAE: {mae_dt}\")\n",
    "print(f\"DecisionTree R-squared (R2): {r2_dt}\")\n",
    "\n",
    "mae_rf = evaluator.evaluate(predictions_rf)\n",
    "r2_rf = evaluator_r2.evaluate(predictions_rf)\n",
    "print(f\"RandomForest MAE: {mae_rf}\")\n",
    "print(f\"RandomForest R-squared (R2): {r2_rf}\")                 "
   ]
  }
 ],
 "metadata": {
  "kernelspec": {
   "display_name": "Python 3",
   "language": "python",
   "name": "python3"
  },
  "language_info": {
   "codemirror_mode": {
    "name": "ipython",
    "version": 3
   },
   "file_extension": ".py",
   "mimetype": "text/x-python",
   "name": "python",
   "nbconvert_exporter": "python",
   "pygments_lexer": "ipython3",
   "version": "3.11.4"
  }
 },
 "nbformat": 4,
 "nbformat_minor": 2
}
